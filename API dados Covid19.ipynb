{
  "nbformat": 4,
  "nbformat_minor": 0,
  "metadata": {
    "colab": {
      "name": "Let's code - Project 1",
      "provenance": [],
      "authorship_tag": "ABX9TyNnWQlfoP+yE9tUlQRJ7DV8",
      "include_colab_link": true
    },
    "kernelspec": {
      "name": "python3",
      "display_name": "Python 3"
    },
    "language_info": {
      "name": "python"
    }
  },
  "cells": [
    {
      "cell_type": "markdown",
      "metadata": {
        "id": "view-in-github",
        "colab_type": "text"
      },
      "source": [
        "<a href=\"https://colab.research.google.com/github/AnaClarice382/data_science_analysis/blob/master/API%20dados%20Covid19.ipynb\" target=\"_parent\"><img src=\"https://colab.research.google.com/assets/colab-badge.svg\" alt=\"Open In Colab\"/></a>"
      ]
    },
    {
      "cell_type": "code",
      "metadata": {
        "id": "kynONrqsF-1a"
      },
      "source": [
        "import requests as r\n",
        "import datetime as dt"
      ],
      "execution_count": null,
      "outputs": []
    },
    {
      "cell_type": "code",
      "metadata": {
        "id": "Zbe_6v5ZGFOQ"
      },
      "source": [
        "url = \"https://api.covid19api.com/dayone/country/brazil\"\n",
        "resp = r.get(url)"
      ],
      "execution_count": null,
      "outputs": []
    },
    {
      "cell_type": "code",
      "metadata": {
        "colab": {
          "base_uri": "https://localhost:8080/"
        },
        "id": "33_BxzePGvL8",
        "outputId": "345869d8-5b7f-45d1-af4b-fefd96c25dd0"
      },
      "source": [
        "resp.status_code"
      ],
      "execution_count": null,
      "outputs": [
        {
          "output_type": "execute_result",
          "data": {
            "text/plain": [
              "200"
            ]
          },
          "metadata": {
            "tags": []
          },
          "execution_count": 3
        }
      ]
    },
    {
      "cell_type": "code",
      "metadata": {
        "id": "1AeT-Qd3HHGv"
      },
      "source": [
        "raw_data = resp.json()"
      ],
      "execution_count": null,
      "outputs": []
    },
    {
      "cell_type": "code",
      "metadata": {
        "colab": {
          "base_uri": "https://localhost:8080/"
        },
        "id": "E3Z_b6qtHMj-",
        "outputId": "be6634de-717c-4338-9865-6be28b7724d8"
      },
      "source": [
        "raw_data[200]"
      ],
      "execution_count": null,
      "outputs": [
        {
          "output_type": "execute_result",
          "data": {
            "text/plain": [
              "{'Active': 475624,\n",
              " 'City': '',\n",
              " 'CityCode': '',\n",
              " 'Confirmed': 4330455,\n",
              " 'Country': 'Brazil',\n",
              " 'CountryCode': 'BR',\n",
              " 'Date': '2020-09-13T00:00:00Z',\n",
              " 'Deaths': 131625,\n",
              " 'ID': '7367e86f-7577-4c5b-b315-3589ee6e0410',\n",
              " 'Lat': '-14.24',\n",
              " 'Lon': '-51.93',\n",
              " 'Province': '',\n",
              " 'Recovered': 3723206}"
            ]
          },
          "metadata": {
            "tags": []
          },
          "execution_count": 7
        }
      ]
    },
    {
      "cell_type": "code",
      "metadata": {
        "id": "e37okHdcHR4g"
      },
      "source": [
        "final_data = []\n",
        "final_data.insert(0, ['confirmados', 'obitos', 'recuperados', 'ativos', 'data','latitude','longitude'])\n",
        "for i in raw_data:\n",
        "  final_data.append([i['Confirmed'], i['Deaths'], i['Recovered'], i['Active'], i['Date'], i['Lat'], i['Lon']])"
      ],
      "execution_count": null,
      "outputs": []
    },
    {
      "cell_type": "code",
      "metadata": {
        "colab": {
          "base_uri": "https://localhost:8080/"
        },
        "id": "dzuJNOxzHyIR",
        "outputId": "8cf52b58-f326-4245-a4d4-7f226ece1844"
      },
      "source": [
        "final_data[1]"
      ],
      "execution_count": null,
      "outputs": [
        {
          "output_type": "execute_result",
          "data": {
            "text/plain": [
              "[1, 0, 0, 1, '2020-02-26T00:00:00Z', '-14.24', '-51.93']"
            ]
          },
          "metadata": {
            "tags": []
          },
          "execution_count": 15
        }
      ]
    },
    {
      "cell_type": "code",
      "metadata": {
        "id": "k1F0UCVXKavW"
      },
      "source": [
        "CONFIRMADOS = 0\n",
        "OBITOS = 1\n",
        "RECUPERADOS = 2\n",
        "ATIVOS = 3\n",
        "DATA = 4"
      ],
      "execution_count": null,
      "outputs": []
    },
    {
      "cell_type": "code",
      "metadata": {
        "id": "eySGckjoIO9a"
      },
      "source": [
        "for i in range(1, len(final_data)):\n",
        "  final_data[i][DATA] = final_data[i][DATA][:10]"
      ],
      "execution_count": null,
      "outputs": []
    },
    {
      "cell_type": "code",
      "metadata": {
        "id": "RufYFDTGKVVs"
      },
      "source": [
        ""
      ],
      "execution_count": null,
      "outputs": []
    }
  ]
}