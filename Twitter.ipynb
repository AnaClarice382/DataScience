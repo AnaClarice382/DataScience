{
 "cells": [
  {
   "cell_type": "code",
   "execution_count": 2,
   "metadata": {},
   "outputs": [],
   "source": [
    "import os\n",
    "import tweepy as tw\n",
    "import pandas as pd\n",
    "from textblob import TextBlob as tb\n",
    "import numpy as np"
   ]
  },
  {
   "cell_type": "code",
   "execution_count": 3,
   "metadata": {},
   "outputs": [],
   "source": [
    "#keys conta dev twetter\n",
    "consumer_key = \"\"\n",
    "consumer_secret = \"\"\n",
    "access_token = \"\"\n",
    "access_token_secret = \"\""
   ]
  },
  {
   "cell_type": "code",
   "execution_count": 4,
   "metadata": {},
   "outputs": [
    {
     "data": {
      "text/plain": [
       "<tweepy.auth.OAuthHandler at 0x7fa718d5e2e8>"
      ]
     },
     "execution_count": 4,
     "metadata": {},
     "output_type": "execute_result"
    }
   ],
   "source": [
    "auth = tw.OAuthHandler(consumer_key, consumer_secret)\n",
    "auth"
   ]
  },
  {
   "cell_type": "code",
   "execution_count": 5,
   "metadata": {},
   "outputs": [],
   "source": [
    "auth.set_access_token(access_token, access_token_secret)"
   ]
  },
  {
   "cell_type": "code",
   "execution_count": 6,
   "metadata": {},
   "outputs": [],
   "source": [
    "token = tw.API(auth, wait_on_rate_limit=True)"
   ]
  },
  {
   "cell_type": "markdown",
   "metadata": {},
   "source": [
    "Realizar a busca por palavra chave"
   ]
  },
  {
   "cell_type": "code",
   "execution_count": 7,
   "metadata": {},
   "outputs": [],
   "source": [
    "keyword = ('home office' or 'trabalho remoto' or 'trabalho em casa')"
   ]
  },
  {
   "cell_type": "code",
   "execution_count": 8,
   "metadata": {},
   "outputs": [],
   "source": [
    "tweets = token.search(q=keyword, count=28000, result_type='mixed')"
   ]
  },
  {
   "cell_type": "code",
   "execution_count": 9,
   "metadata": {},
   "outputs": [],
   "source": [
    "#tweets = token.search(q=keyword, count=10, result_type='mixed',tweet_mode='extended', lang='pt')"
   ]
  },
  {
   "cell_type": "code",
   "execution_count": 10,
   "metadata": {},
   "outputs": [
    {
     "name": "stdout",
     "output_type": "stream",
     "text": [
      "Total de tweets coletados 100.\n"
     ]
    }
   ],
   "source": [
    "#para verificar a quantidade de tweets coletado use a funcao len()\n",
    "print(\"Total de tweets coletados %s.\" % (len(tweets)))"
   ]
  },
  {
   "cell_type": "code",
   "execution_count": 11,
   "metadata": {},
   "outputs": [
    {
     "name": "stdout",
     "output_type": "stream",
     "text": [
      "Usuario: {'alamoju'} \n",
      "  Tweet: {'a vantagem do home office é que você não precisa segurar a vontade de chorar durante o expediente.'} \n",
      "Usuario: {'ChrisMasonBBC'} \n",
      "  Tweet: {'OOOF! Home Office source: “Priti is working day&amp;night to bring an end to these small boat crossings, which are faci… https://t.co/968Cx3pW5s'} \n",
      "Usuario: {'JolyonMaugham'} \n",
      "  Tweet: {'Home Office: \"the current legal framework is often abused by activist lawyers to frustrate the government’s attempt… https://t.co/skUWB1tpK7'} \n",
      "Usuario: {'JagwirFan'} \n",
      "  Tweet: {'RT @JamesOKeefeIII: Years ago my friend @daviddaleiden home was raided by officials under the office of then California AG @SenKamalaHarris…'} \n",
      "Usuario: {'MariaLuizaPSNev'} \n",
      "  Tweet: {'RT @castelabranca: Ué mas os ministros do STF não estavam de Home Office?\\n\\nOlha o Toffoli tentando meter um CAT'} \n",
      "Usuario: {'johnoakdalton'} \n",
      "  Tweet: {'Finally broke down and bought an office chair after sitting in a kitchen chair since we went to work from home in M… https://t.co/Ot4IXgINbY'} \n",
      "Usuario: {'claico'} \n",
      "  Tweet: {'@topalovich @aloysiuscc Home office deductions can be very good if your \"office\" is used exclusively for business.… https://t.co/twhaBXMKz2'} \n",
      "Usuario: {'sadmark11'} \n",
      "  Tweet: {'RT @mi6rogue: Think of what has happened today before the No10 spin machine gets hold of the truth. #BorisJohnson has got away with giving…'} \n",
      "Usuario: {'grandmainct'} \n",
      "  Tweet: {'RT @JamesOKeefeIII: Years ago my friend @daviddaleiden home was raided by officials under the office of then California AG @SenKamalaHarris…'} \n",
      "Usuario: {'d46610537'} \n",
      "  Tweet: {'RT @JamesOKeefeIII: Years ago my friend @daviddaleiden home was raided by officials under the office of then California AG @SenKamalaHarris…'} \n",
      "Usuario: {'SCMema'} \n",
      "  Tweet: {'RT @JamesOKeefeIII: Years ago my friend @daviddaleiden home was raided by officials under the office of then California AG @SenKamalaHarris…'} \n",
      "Usuario: {'Denise21783004'} \n",
      "  Tweet: {'RT @JamesOKeefeIII: Years ago my friend @daviddaleiden home was raided by officials under the office of then California AG @SenKamalaHarris…'} \n",
      "Usuario: {'Hudi72706199'} \n",
      "  Tweet: {'RT @perv_xtreme: haciendo home office https://t.co/IOjctdRPlH'} \n",
      "Usuario: {'tracyDa34033517'} \n",
      "  Tweet: {'RT @JamesOKeefeIII: Years ago my friend @daviddaleiden home was raided by officials under the office of then California AG @SenKamalaHarris…'} \n",
      "Usuario: {'gerikennerly'} \n",
      "  Tweet: {'RT @JamesOKeefeIII: Years ago my friend @daviddaleiden home was raided by officials under the office of then California AG @SenKamalaHarris…'} \n",
      "Usuario: {'Musings_My_Own'} \n",
      "  Tweet: {'RT @JamesOKeefeIII: Years ago my friend @daviddaleiden home was raided by officials under the office of then California AG @SenKamalaHarris…'} \n",
      "Usuario: {'blsosa1'} \n",
      "  Tweet: {'RT @JamesOKeefeIII: Years ago my friend @daviddaleiden home was raided by officials under the office of then California AG @SenKamalaHarris…'} \n",
      "Usuario: {'AghFord'} \n",
      "  Tweet: {'Right on! Congressman wake up ! Living in your office is unacceptable! You need to pay rent like the renters you’re… https://t.co/qBoBal5fod'} \n",
      "Usuario: {'Thaistressadahh'} \n",
      "  Tweet: {'RT @alamoju: a vantagem do home office é que você não precisa segurar a vontade de chorar durante o expediente.'} \n",
      "Usuario: {'kaylo2456'} \n",
      "  Tweet: {'RT @JamesOKeefeIII: Years ago my friend @daviddaleiden home was raided by officials under the office of then California AG @SenKamalaHarris…'} \n",
      "Usuario: {'isaacreimer45'} \n",
      "  Tweet: {'RT @JamesOKeefeIII: Years ago my friend @daviddaleiden home was raided by officials under the office of then California AG @SenKamalaHarris…'} \n",
      "Usuario: {'Smc20174'} \n",
      "  Tweet: {'RT @JamesOKeefeIII: Years ago my friend @daviddaleiden home was raided by officials under the office of then California AG @SenKamalaHarris…'} \n",
      "Usuario: {'MarkMobile68'} \n",
      "  Tweet: {'@jodu0 @1happy_monkey @DanJBamford @JarelleFrancis @JamesCleverly Still ignoring home office data via a FOI request… https://t.co/aqR1KDk7wH'} \n",
      "Usuario: {'jodu0'} \n",
      "  Tweet: {'@MarkMobile68 @1happy_monkey @DanJBamford @JarelleFrancis @JamesCleverly It was a home office study in 2005 based on a census from 2001.'} \n",
      "Usuario: {'bolleat'} \n",
      "  Tweet: {'RT @JamesOKeefeIII: Years ago my friend @daviddaleiden home was raided by officials under the office of then California AG @SenKamalaHarris…'} \n",
      "Usuario: {'PorterSumari'} \n",
      "  Tweet: {'RT @JamesOKeefeIII: Years ago my friend @daviddaleiden home was raided by officials under the office of then California AG @SenKamalaHarris…'} \n",
      "Usuario: {'batalysta'} \n",
      "  Tweet: {'RT @JamesOKeefeIII: Years ago my friend @daviddaleiden home was raided by officials under the office of then California AG @SenKamalaHarris…'} \n",
      "Usuario: {'Rnelso61'} \n",
      "  Tweet: {'RT @JamesOKeefeIII: Years ago my friend @daviddaleiden home was raided by officials under the office of then California AG @SenKamalaHarris…'} \n",
      "Usuario: {'MrChrisMoo'} \n",
      "  Tweet: {'RT @JamesOKeefeIII: Years ago my friend @daviddaleiden home was raided by officials under the office of then California AG @SenKamalaHarris…'} \n",
      "Usuario: {'wally_ak'} \n",
      "  Tweet: {'RT @JamesOKeefeIII: Years ago my friend @daviddaleiden home was raided by officials under the office of then California AG @SenKamalaHarris…'} \n",
      "Usuario: {'dj_vaquera'} \n",
      "  Tweet: {'a puro home office hoy'} \n",
      "Usuario: {'noismill'} \n",
      "  Tweet: {'RT @ChrisMasonBBC: OOOF! Home Office source: “Priti is working day&amp;night to bring an end to these small boat crossings, which are facilitat…'} \n",
      "Usuario: {'joaomarcospvt'} \n",
      "  Tweet: {'@stems_ E eu nunca mais quero sair do home Office, cara, é vida demais'} \n",
      "Usuario: {'RobertRokdawg'} \n",
      "  Tweet: {'RT @JamesOKeefeIII: Years ago my friend @daviddaleiden home was raided by officials under the office of then California AG @SenKamalaHarris…'} \n",
      "Usuario: {'ygorsan_'} \n",
      "  Tweet: {'provavelmente ficarei de home office até o fim do ano, só pq queria ver os colegas de trampo'} \n",
      "Usuario: {'heygugaa'} \n",
      "  Tweet: {'@digiescolhidx Amigo eu voltei mas na verdade eu queria meu home office de volta serião'} \n",
      "Usuario: {'AlaskanBeauty'} \n",
      "  Tweet: {'RT @JamesOKeefeIII: Years ago my friend @daviddaleiden home was raided by officials under the office of then California AG @SenKamalaHarris…'} \n",
      "Usuario: {'liriogabi'} \n",
      "  Tweet: {'RT @alamoju: a vantagem do home office é que você não precisa segurar a vontade de chorar durante o expediente.'} \n",
      "Usuario: {'derek_gleich'} \n",
      "  Tweet: {\"RT @CiscoCollab: See how @Webex is bringing you enterprise calling features you're used to while you're working from home and when it's tim…\"} \n",
      "Usuario: {'AngryGrandma11'} \n",
      "  Tweet: {'RT @JamesOKeefeIII: Years ago my friend @daviddaleiden home was raided by officials under the office of then California AG @SenKamalaHarris…'} \n",
      "Usuario: {'carsonwatts2'} \n",
      "  Tweet: {'RT @OsceolaBulldogs: Check out our new Osceola gear! Order forms will go home with 6-12 students Friday the 14th. K-5 order forms will go h…'} \n",
      "Usuario: {'mamagerka'} \n",
      "  Tweet: {'RT @JamesOKeefeIII: Years ago my friend @daviddaleiden home was raided by officials under the office of then California AG @SenKamalaHarris…'} \n",
      "Usuario: {'taMAGAiKAK'} \n",
      "  Tweet: {'RT @JamesOKeefeIII: Years ago my friend @daviddaleiden home was raided by officials under the office of then California AG @SenKamalaHarris…'} \n",
      "Usuario: {'sjarealestate'} \n",
      "  Tweet: {'4 Bedroom, 2.5 Bath, Office, Bonus Room, 2-car garage Daylight Basement Rambler situated on a quiet cul-de-sac back… https://t.co/UdNWXjuFDH'} \n",
      "Usuario: {'anarchon1701D'} \n",
      "  Tweet: {'RT @ChrisMasonBBC: OOOF! Home Office source: “Priti is working day&amp;night to bring an end to these small boat crossings, which are facilitat…'} \n",
      "Usuario: {'jf_pry'} \n",
      "  Tweet: {'RT @JamesOKeefeIII: Years ago my friend @daviddaleiden home was raided by officials under the office of then California AG @SenKamalaHarris…'} \n",
      "Usuario: {'DabashDeals'} \n",
      "  Tweet: {'Are you looking for a practical sofa for your leisure time? Try this Folding Lazy Sofa Chair for  only $116.79… https://t.co/yCN4Ov022I'} \n",
      "Usuario: {'slavtrapgod'} \n",
      "  Tweet: {'RT @JamesOKeefeIII: Years ago my friend @daviddaleiden home was raided by officials under the office of then California AG @SenKamalaHarris…'} \n",
      "Usuario: {'Ali_in_So_Cali'} \n",
      "  Tweet: {'RT @JamesOKeefeIII: Years ago my friend @daviddaleiden home was raided by officials under the office of then California AG @SenKamalaHarris…'} \n",
      "Usuario: {'GordDawg'} \n",
      "  Tweet: {'@drunktweetn Laptop and monitor set up. ~2200 bones in my home office.'} \n",
      "Usuario: {'thebookstxn'} \n",
      "  Tweet: {'olha q hora q eu vou fazer home office https://t.co/lMhsdiHyqT'} \n",
      "Usuario: {'PeterPiperPoopy'} \n",
      "  Tweet: {'RT @ChrisMasonBBC: OOOF! Home Office source: “Priti is working day&amp;night to bring an end to these small boat crossings, which are facilitat…'} \n",
      "Usuario: {'FukUrLiberalBS'} \n",
      "  Tweet: {'RT @JamesOKeefeIII: Years ago my friend @daviddaleiden home was raided by officials under the office of then California AG @SenKamalaHarris…'} \n",
      "Usuario: {'BowmanboysMomma'} \n",
      "  Tweet: {'RT @JamesOKeefeIII: Years ago my friend @daviddaleiden home was raided by officials under the office of then California AG @SenKamalaHarris…'} \n",
      "Usuario: {'kura11746a'} \n",
      "  Tweet: {'RT @trm4065: ◎今夜〈ツイキャスライブ配信〉\\n\\n■2020.８/１２(水)２０:００～\\n「Home free Live！#6」\\nhttps://t.co/vlrMNPjcA9\\n【Guest】#Kouhei\\n松中自宅よりミニライブ＋チェキ撮影サイン会\\n\\n本日8/12の…'} \n",
      "Usuario: {'Alverdonk'} \n",
      "  Tweet: {'@emilyhewertson Seems like it worked perfect as they got a defensive, childish response from the home office, MP’s,… https://t.co/qKD2cvXH9t'} \n",
      "Usuario: {'FixxieW'} \n",
      "  Tweet: {'RT @JamesOKeefeIII: Years ago my friend @daviddaleiden home was raided by officials under the office of then California AG @SenKamalaHarris…'} \n",
      "Usuario: {'Rasny54'} \n",
      "  Tweet: {'RT @alamoju: a vantagem do home office é que você não precisa segurar a vontade de chorar durante o expediente.'} \n",
      "Usuario: {'ArtDecoFineArt'} \n",
      "  Tweet: {'\"Other Worldly\" \\nhttps://t.co/Zha5FPLuo2  \\n\\nHang this space-woman on the walls of your home, office or place of bus… https://t.co/DyrzVclgQ4'} \n",
      "Usuario: {'skanbar'} \n",
      "  Tweet: {'I was given a stipend to buy home office furniture and used half of it to buy a gamer chair. 😕'} \n",
      "Usuario: {'wierdoll'} \n",
      "  Tweet: {'eu sinceramente não sei como cês aguentam ver the office aquele home gerente do escritório é INSUPORTÁVEL'} \n",
      "Usuario: {'GauteNilsen'} \n",
      "  Tweet: {'RT @JamesOKeefeIII: Years ago my friend @daviddaleiden home was raided by officials under the office of then California AG @SenKamalaHarris…'} \n",
      "Usuario: {'exigenthesed'} \n",
      "  Tweet: {'RT @JamesOKeefeIII: Years ago my friend @daviddaleiden home was raided by officials under the office of then California AG @SenKamalaHarris…'} \n",
      "Usuario: {'ShannonDCGarret'} \n",
      "  Tweet: {'RT @JamesOKeefeIII: Years ago my friend @daviddaleiden home was raided by officials under the office of then California AG @SenKamalaHarris…'} \n",
      "Usuario: {'HulluSasha'} \n",
      "  Tweet: {'RT @JamesOKeefeIII: Years ago my friend @daviddaleiden home was raided by officials under the office of then California AG @SenKamalaHarris…'} \n",
      "Usuario: {'InTusque'} \n",
      "  Tweet: {'@DanielSFurlan Isso me lembrou que as testemunhas de Jeová estão em home office. Nunca recebi tantas ligações.'} \n",
      "Usuario: {'briandb03'} \n",
      "  Tweet: {'RT @JamesOKeefeIII: Years ago my friend @daviddaleiden home was raided by officials under the office of then California AG @SenKamalaHarris…'} \n",
      "Usuario: {'jodu0'} \n",
      "  Tweet: {'@1happy_monkey @MarkMobile68 @DanJBamford @JarelleFrancis @JamesCleverly It was a home office census'} \n",
      "Usuario: {'proudmama_5'} \n",
      "  Tweet: {'RT @JamesOKeefeIII: Years ago my friend @daviddaleiden home was raided by officials under the office of then California AG @SenKamalaHarris…'} \n",
      "Usuario: {'LMcjury'} \n",
      "  Tweet: {'RT @JolyonMaugham: Home Office: \"the current legal framework is often abused by activist lawyers to frustrate the government’s attempts in…'} \n",
      "Usuario: {'NickWords1'} \n",
      "  Tweet: {'RT @MartynDav33: @ChrisMasonBBC The \"social media team for a brand of overpriced junk food\" who demonstrably understand the nuance of a sen…'} \n",
      "Usuario: {'RussiaResist'} \n",
      "  Tweet: {'@TomCottonAR Why isn’t Tom Cotton  doing anything to protect America’s seniors ability to vote safely from home.… https://t.co/DRoFc5aYwK'} \n",
      "Usuario: {'Thomas_195813'} \n",
      "  Tweet: {'RT @JamesOKeefeIII: Years ago my friend @daviddaleiden home was raided by officials under the office of then California AG @SenKamalaHarris…'} \n",
      "Usuario: {'mikee_swe'} \n",
      "  Tweet: {'RT @ChrisMasonBBC: OOOF! Home Office source: “Priti is working day&amp;night to bring an end to these small boat crossings, which are facilitat…'} \n",
      "Usuario: {'dallie_payne'} \n",
      "  Tweet: {'RT @JamesOKeefeIII: Years ago my friend @daviddaleiden home was raided by officials under the office of then California AG @SenKamalaHarris…'} \n",
      "Usuario: {'gringoperezoso'} \n",
      "  Tweet: {'RT @AstroKatie: Tfw you stand up from your home office desk and loudly proclaim “I’m taking a break now!” to the unseen but ever-present sp…'} \n",
      "Usuario: {'_sent_a_Latina'} \n",
      "  Tweet: {'RT @JamesOKeefeIII: Years ago my friend @daviddaleiden home was raided by officials under the office of then California AG @SenKamalaHarris…'} \n",
      "Usuario: {'Molson_Hart'} \n",
      "  Tweet: {'I feel quite confident that most businesses can run well remotely with all-hands (everyone in the office) working d… https://t.co/RY7xwNbkFM'} \n",
      "Usuario: {'goeck9'} \n",
      "  Tweet: {'RT @JamesOKeefeIII: Years ago my friend @daviddaleiden home was raided by officials under the office of then California AG @SenKamalaHarris…'} \n",
      "Usuario: {'ResidentOfFL'} \n",
      "  Tweet: {'RT @JamesOKeefeIII: Years ago my friend @daviddaleiden home was raided by officials under the office of then California AG @SenKamalaHarris…'} \n",
      "Usuario: {'kisseyface845'} \n",
      "  Tweet: {'RT @JamesOKeefeIII: Years ago my friend @daviddaleiden home was raided by officials under the office of then California AG @SenKamalaHarris…'} \n",
      "Usuario: {'777kid57'} \n",
      "  Tweet: {'RT @JamesOKeefeIII: Years ago my friend @daviddaleiden home was raided by officials under the office of then California AG @SenKamalaHarris…'} \n",
      "Usuario: {'LadySileL'} \n",
      "  Tweet: {\"RT @EmmandJDeSouza: 'Every person born in Northern Ireland will be regarded as a EU citizen for immigration purposes, following a significa…\"} \n",
      "Usuario: {'RussiaResist'} \n",
      "  Tweet: {'@TomCottonAR Why isn’t Tom Cotton doing anything to protect America’s seniors ability to vote safely from home. \\n\\nA… https://t.co/WTc5pTOI4j'} \n",
      "Usuario: {'america_amber'} \n",
      "  Tweet: {'RT @JamesOKeefeIII: Years ago my friend @daviddaleiden home was raided by officials under the office of then California AG @SenKamalaHarris…'} \n",
      "Usuario: {'Trillian_01'} \n",
      "  Tweet: {\"RT @EmmandJDeSouza: 'Every person born in Northern Ireland will be regarded as a EU citizen for immigration purposes, following a significa…\"} \n",
      "Usuario: {'Jane69629967'} \n",
      "  Tweet: {'RT @JamesOKeefeIII: Years ago my friend @daviddaleiden home was raided by officials under the office of then California AG @SenKamalaHarris…'} \n",
      "Usuario: {'mgneely'} \n",
      "  Tweet: {'RT @JamesOKeefeIII: Years ago my friend @daviddaleiden home was raided by officials under the office of then California AG @SenKamalaHarris…'} \n",
      "Usuario: {'dandaman4us'} \n",
      "  Tweet: {'RT @AlexBerenson: So @nachristakis is a true smarty pants, full professor at @Yale, etc ad infinitium. Too bad he has zero idea of what is…'} \n",
      "Usuario: {'neverleftbehin2'} \n",
      "  Tweet: {'RT @JamesOKeefeIII: Years ago my friend @daviddaleiden home was raided by officials under the office of then California AG @SenKamalaHarris…'} \n",
      "Usuario: {'natashabourque3'} \n",
      "  Tweet: {'RT @JamesOKeefeIII: Years ago my friend @daviddaleiden home was raided by officials under the office of then California AG @SenKamalaHarris…'} \n",
      "Usuario: {'LindaWhiddon'} \n",
      "  Tweet: {'RT @JamesOKeefeIII: Years ago my friend @daviddaleiden home was raided by officials under the office of then California AG @SenKamalaHarris…'} \n",
      "Usuario: {'WesternPAJon'} \n",
      "  Tweet: {'RT @JamesOKeefeIII: Years ago my friend @daviddaleiden home was raided by officials under the office of then California AG @SenKamalaHarris…'} \n",
      "Usuario: {'auroravoyager1'} \n",
      "  Tweet: {'RT @JamesOKeefeIII: Years ago my friend @daviddaleiden home was raided by officials under the office of then California AG @SenKamalaHarris…'} \n",
      "Usuario: {'jimmypresley9'} \n",
      "  Tweet: {'RT @JamesOKeefeIII: Years ago my friend @daviddaleiden home was raided by officials under the office of then California AG @SenKamalaHarris…'} \n",
      "Usuario: {'markbjardine'} \n",
      "  Tweet: {'RT @ChrisMasonBBC: OOOF! Home Office source: “Priti is working day&amp;night to bring an end to these small boat crossings, which are facilitat…'} \n",
      "Usuario: {'devil666assasin'} \n",
      "  Tweet: {'RT @krazytoxic: Home Office...🙊 https://t.co/u1DO8Ep1i8'} \n",
      "Usuario: {'poyoute'} \n",
      "  Tweet: {'RT @JamesOKeefeIII: Years ago my friend @daviddaleiden home was raided by officials under the office of then California AG @SenKamalaHarris…'} \n",
      "Usuario: {'CollinKelley'} \n",
      "  Tweet: {'164,000 deaths from COVID-19, election interference from abroad and rigging at home, millions without jobs, but Nik… https://t.co/05y8W6gCY0'} \n",
      "Usuario: {'Maggiem65468100'} \n",
      "  Tweet: {'RT @JamesOKeefeIII: Years ago my friend @daviddaleiden home was raided by officials under the office of then California AG @SenKamalaHarris…'} \n"
     ]
    }
   ],
   "source": [
    "#podemos imprimir o nome do usuário (screen_name) e o texto d tweet\n",
    "\n",
    "for tweet in tweets:\n",
    "    print(\"Usuario: %s \" % {tweet.user.screen_name})\n",
    "    print(\"  Tweet: %s \" % {tweet.text})"
   ]
  },
  {
   "cell_type": "markdown",
   "metadata": {},
   "source": [
    "## Analise de polaridade\n",
    "\n",
    "    A função sentiment.polarity retornará um número entre -1 e 1, onde quanto maior esse número, menos \"chateada\" a pessoa está. Quanto maior esse número mais positivo é o tweet, e zero pode indicar uma neutralidade do tweet\n"
   ]
  },
  {
   "cell_type": "code",
   "execution_count": 12,
   "metadata": {},
   "outputs": [],
   "source": [
    "#variavel que vai armazenar as polaridades\n",
    "analysis = None"
   ]
  },
  {
   "cell_type": "code",
   "execution_count": 13,
   "metadata": {},
   "outputs": [],
   "source": [
    "#Lista vazia para armazenar scores\n",
    "tweets_score = []"
   ]
  },
  {
   "cell_type": "code",
   "execution_count": 14,
   "metadata": {},
   "outputs": [
    {
     "name": "stdout",
     "output_type": "stream",
     "text": [
      "** a vantagem do home office é que você não precisa segurar a vontade de chorar durante o expediente.\n",
      "** OOOF! Home Office source: “Priti is working day&amp;night to bring an end to these small boat crossings, which are faci… https://t.co/968Cx3pW5s\n",
      "** Home Office: \"the current legal framework is often abused by activist lawyers to frustrate the government’s attempt… https://t.co/skUWB1tpK7\n",
      "** RT @JamesOKeefeIII: Years ago my friend @daviddaleiden home was raided by officials under the office of then California AG @SenKamalaHarris…\n",
      "** RT @castelabranca: Ué mas os ministros do STF não estavam de Home Office?\n",
      "\n",
      "Olha o Toffoli tentando meter um CAT\n",
      "** Finally broke down and bought an office chair after sitting in a kitchen chair since we went to work from home in M… https://t.co/Ot4IXgINbY\n",
      "** @topalovich @aloysiuscc Home office deductions can be very good if your \"office\" is used exclusively for business.… https://t.co/twhaBXMKz2\n",
      "** RT @mi6rogue: Think of what has happened today before the No10 spin machine gets hold of the truth. #BorisJohnson has got away with giving…\n",
      "** RT @JamesOKeefeIII: Years ago my friend @daviddaleiden home was raided by officials under the office of then California AG @SenKamalaHarris…\n",
      "** RT @JamesOKeefeIII: Years ago my friend @daviddaleiden home was raided by officials under the office of then California AG @SenKamalaHarris…\n",
      "** RT @JamesOKeefeIII: Years ago my friend @daviddaleiden home was raided by officials under the office of then California AG @SenKamalaHarris…\n",
      "** RT @JamesOKeefeIII: Years ago my friend @daviddaleiden home was raided by officials under the office of then California AG @SenKamalaHarris…\n",
      "** RT @perv_xtreme: haciendo home office https://t.co/IOjctdRPlH\n",
      "** RT @JamesOKeefeIII: Years ago my friend @daviddaleiden home was raided by officials under the office of then California AG @SenKamalaHarris…\n",
      "** RT @JamesOKeefeIII: Years ago my friend @daviddaleiden home was raided by officials under the office of then California AG @SenKamalaHarris…\n",
      "** RT @JamesOKeefeIII: Years ago my friend @daviddaleiden home was raided by officials under the office of then California AG @SenKamalaHarris…\n",
      "** RT @JamesOKeefeIII: Years ago my friend @daviddaleiden home was raided by officials under the office of then California AG @SenKamalaHarris…\n",
      "** Right on! Congressman wake up ! Living in your office is unacceptable! You need to pay rent like the renters you’re… https://t.co/qBoBal5fod\n",
      "** RT @alamoju: a vantagem do home office é que você não precisa segurar a vontade de chorar durante o expediente.\n",
      "** RT @JamesOKeefeIII: Years ago my friend @daviddaleiden home was raided by officials under the office of then California AG @SenKamalaHarris…\n",
      "** RT @JamesOKeefeIII: Years ago my friend @daviddaleiden home was raided by officials under the office of then California AG @SenKamalaHarris…\n",
      "** RT @JamesOKeefeIII: Years ago my friend @daviddaleiden home was raided by officials under the office of then California AG @SenKamalaHarris…\n",
      "** @jodu0 @1happy_monkey @DanJBamford @JarelleFrancis @JamesCleverly Still ignoring home office data via a FOI request… https://t.co/aqR1KDk7wH\n",
      "** @MarkMobile68 @1happy_monkey @DanJBamford @JarelleFrancis @JamesCleverly It was a home office study in 2005 based on a census from 2001.\n",
      "** RT @JamesOKeefeIII: Years ago my friend @daviddaleiden home was raided by officials under the office of then California AG @SenKamalaHarris…\n",
      "** RT @JamesOKeefeIII: Years ago my friend @daviddaleiden home was raided by officials under the office of then California AG @SenKamalaHarris…\n",
      "** RT @JamesOKeefeIII: Years ago my friend @daviddaleiden home was raided by officials under the office of then California AG @SenKamalaHarris…\n",
      "** RT @JamesOKeefeIII: Years ago my friend @daviddaleiden home was raided by officials under the office of then California AG @SenKamalaHarris…\n",
      "** RT @JamesOKeefeIII: Years ago my friend @daviddaleiden home was raided by officials under the office of then California AG @SenKamalaHarris…\n",
      "** RT @JamesOKeefeIII: Years ago my friend @daviddaleiden home was raided by officials under the office of then California AG @SenKamalaHarris…\n",
      "** a puro home office hoy\n",
      "** RT @ChrisMasonBBC: OOOF! Home Office source: “Priti is working day&amp;night to bring an end to these small boat crossings, which are facilitat…\n",
      "** @stems_ E eu nunca mais quero sair do home Office, cara, é vida demais\n",
      "** RT @JamesOKeefeIII: Years ago my friend @daviddaleiden home was raided by officials under the office of then California AG @SenKamalaHarris…\n",
      "** provavelmente ficarei de home office até o fim do ano, só pq queria ver os colegas de trampo\n",
      "** @digiescolhidx Amigo eu voltei mas na verdade eu queria meu home office de volta serião\n",
      "** RT @JamesOKeefeIII: Years ago my friend @daviddaleiden home was raided by officials under the office of then California AG @SenKamalaHarris…\n",
      "** RT @alamoju: a vantagem do home office é que você não precisa segurar a vontade de chorar durante o expediente.\n",
      "** RT @CiscoCollab: See how @Webex is bringing you enterprise calling features you're used to while you're working from home and when it's tim…\n",
      "** RT @JamesOKeefeIII: Years ago my friend @daviddaleiden home was raided by officials under the office of then California AG @SenKamalaHarris…\n",
      "** RT @OsceolaBulldogs: Check out our new Osceola gear! Order forms will go home with 6-12 students Friday the 14th. K-5 order forms will go h…\n",
      "** RT @JamesOKeefeIII: Years ago my friend @daviddaleiden home was raided by officials under the office of then California AG @SenKamalaHarris…\n",
      "** RT @JamesOKeefeIII: Years ago my friend @daviddaleiden home was raided by officials under the office of then California AG @SenKamalaHarris…\n",
      "** 4 Bedroom, 2.5 Bath, Office, Bonus Room, 2-car garage Daylight Basement Rambler situated on a quiet cul-de-sac back… https://t.co/UdNWXjuFDH\n",
      "** RT @ChrisMasonBBC: OOOF! Home Office source: “Priti is working day&amp;night to bring an end to these small boat crossings, which are facilitat…\n",
      "** RT @JamesOKeefeIII: Years ago my friend @daviddaleiden home was raided by officials under the office of then California AG @SenKamalaHarris…\n",
      "** Are you looking for a practical sofa for your leisure time? Try this Folding Lazy Sofa Chair for  only $116.79… https://t.co/yCN4Ov022I\n",
      "** RT @JamesOKeefeIII: Years ago my friend @daviddaleiden home was raided by officials under the office of then California AG @SenKamalaHarris…\n",
      "** RT @JamesOKeefeIII: Years ago my friend @daviddaleiden home was raided by officials under the office of then California AG @SenKamalaHarris…\n",
      "** @drunktweetn Laptop and monitor set up. ~2200 bones in my home office.\n",
      "** olha q hora q eu vou fazer home office https://t.co/lMhsdiHyqT\n",
      "** RT @ChrisMasonBBC: OOOF! Home Office source: “Priti is working day&amp;night to bring an end to these small boat crossings, which are facilitat…\n",
      "** RT @JamesOKeefeIII: Years ago my friend @daviddaleiden home was raided by officials under the office of then California AG @SenKamalaHarris…\n",
      "** RT @JamesOKeefeIII: Years ago my friend @daviddaleiden home was raided by officials under the office of then California AG @SenKamalaHarris…\n",
      "** RT @trm4065: ◎今夜〈ツイキャスライブ配信〉\n",
      "\n",
      "■2020.８/１２(水)２０:００～\n",
      "「Home free Live！#6」\n",
      "https://t.co/vlrMNPjcA9\n",
      "【Guest】#Kouhei\n",
      "松中自宅よりミニライブ＋チェキ撮影サイン会\n",
      "\n",
      "本日8/12の…\n",
      "** @emilyhewertson Seems like it worked perfect as they got a defensive, childish response from the home office, MP’s,… https://t.co/qKD2cvXH9t\n",
      "** RT @JamesOKeefeIII: Years ago my friend @daviddaleiden home was raided by officials under the office of then California AG @SenKamalaHarris…\n",
      "** RT @alamoju: a vantagem do home office é que você não precisa segurar a vontade de chorar durante o expediente.\n",
      "** \"Other Worldly\" \n",
      "https://t.co/Zha5FPLuo2  \n",
      "\n",
      "Hang this space-woman on the walls of your home, office or place of bus… https://t.co/DyrzVclgQ4\n",
      "** I was given a stipend to buy home office furniture and used half of it to buy a gamer chair. 😕\n",
      "** eu sinceramente não sei como cês aguentam ver the office aquele home gerente do escritório é INSUPORTÁVEL\n",
      "** RT @JamesOKeefeIII: Years ago my friend @daviddaleiden home was raided by officials under the office of then California AG @SenKamalaHarris…\n",
      "** RT @JamesOKeefeIII: Years ago my friend @daviddaleiden home was raided by officials under the office of then California AG @SenKamalaHarris…\n",
      "** RT @JamesOKeefeIII: Years ago my friend @daviddaleiden home was raided by officials under the office of then California AG @SenKamalaHarris…\n",
      "** RT @JamesOKeefeIII: Years ago my friend @daviddaleiden home was raided by officials under the office of then California AG @SenKamalaHarris…\n",
      "** @DanielSFurlan Isso me lembrou que as testemunhas de Jeová estão em home office. Nunca recebi tantas ligações.\n",
      "** RT @JamesOKeefeIII: Years ago my friend @daviddaleiden home was raided by officials under the office of then California AG @SenKamalaHarris…\n",
      "** @1happy_monkey @MarkMobile68 @DanJBamford @JarelleFrancis @JamesCleverly It was a home office census\n",
      "** RT @JamesOKeefeIII: Years ago my friend @daviddaleiden home was raided by officials under the office of then California AG @SenKamalaHarris…\n",
      "** RT @JolyonMaugham: Home Office: \"the current legal framework is often abused by activist lawyers to frustrate the government’s attempts in…\n",
      "** RT @MartynDav33: @ChrisMasonBBC The \"social media team for a brand of overpriced junk food\" who demonstrably understand the nuance of a sen…\n",
      "** @TomCottonAR Why isn’t Tom Cotton  doing anything to protect America’s seniors ability to vote safely from home.… https://t.co/DRoFc5aYwK\n",
      "** RT @JamesOKeefeIII: Years ago my friend @daviddaleiden home was raided by officials under the office of then California AG @SenKamalaHarris…\n",
      "** RT @ChrisMasonBBC: OOOF! Home Office source: “Priti is working day&amp;night to bring an end to these small boat crossings, which are facilitat…\n",
      "** RT @JamesOKeefeIII: Years ago my friend @daviddaleiden home was raided by officials under the office of then California AG @SenKamalaHarris…\n",
      "** RT @AstroKatie: Tfw you stand up from your home office desk and loudly proclaim “I’m taking a break now!” to the unseen but ever-present sp…\n",
      "** RT @JamesOKeefeIII: Years ago my friend @daviddaleiden home was raided by officials under the office of then California AG @SenKamalaHarris…\n",
      "** I feel quite confident that most businesses can run well remotely with all-hands (everyone in the office) working d… https://t.co/RY7xwNbkFM\n",
      "** RT @JamesOKeefeIII: Years ago my friend @daviddaleiden home was raided by officials under the office of then California AG @SenKamalaHarris…\n",
      "** RT @JamesOKeefeIII: Years ago my friend @daviddaleiden home was raided by officials under the office of then California AG @SenKamalaHarris…\n",
      "** RT @JamesOKeefeIII: Years ago my friend @daviddaleiden home was raided by officials under the office of then California AG @SenKamalaHarris…\n",
      "** RT @JamesOKeefeIII: Years ago my friend @daviddaleiden home was raided by officials under the office of then California AG @SenKamalaHarris…\n",
      "** RT @EmmandJDeSouza: 'Every person born in Northern Ireland will be regarded as a EU citizen for immigration purposes, following a significa…\n",
      "** @TomCottonAR Why isn’t Tom Cotton doing anything to protect America’s seniors ability to vote safely from home. \n",
      "\n",
      "A… https://t.co/WTc5pTOI4j\n",
      "** RT @JamesOKeefeIII: Years ago my friend @daviddaleiden home was raided by officials under the office of then California AG @SenKamalaHarris…\n",
      "** RT @EmmandJDeSouza: 'Every person born in Northern Ireland will be regarded as a EU citizen for immigration purposes, following a significa…\n",
      "** RT @JamesOKeefeIII: Years ago my friend @daviddaleiden home was raided by officials under the office of then California AG @SenKamalaHarris…\n",
      "** RT @JamesOKeefeIII: Years ago my friend @daviddaleiden home was raided by officials under the office of then California AG @SenKamalaHarris…\n",
      "** RT @AlexBerenson: So @nachristakis is a true smarty pants, full professor at @Yale, etc ad infinitium. Too bad he has zero idea of what is…\n",
      "** RT @JamesOKeefeIII: Years ago my friend @daviddaleiden home was raided by officials under the office of then California AG @SenKamalaHarris…\n",
      "** RT @JamesOKeefeIII: Years ago my friend @daviddaleiden home was raided by officials under the office of then California AG @SenKamalaHarris…\n",
      "** RT @JamesOKeefeIII: Years ago my friend @daviddaleiden home was raided by officials under the office of then California AG @SenKamalaHarris…\n",
      "** RT @JamesOKeefeIII: Years ago my friend @daviddaleiden home was raided by officials under the office of then California AG @SenKamalaHarris…\n",
      "** RT @JamesOKeefeIII: Years ago my friend @daviddaleiden home was raided by officials under the office of then California AG @SenKamalaHarris…\n",
      "** RT @JamesOKeefeIII: Years ago my friend @daviddaleiden home was raided by officials under the office of then California AG @SenKamalaHarris…\n",
      "** RT @ChrisMasonBBC: OOOF! Home Office source: “Priti is working day&amp;night to bring an end to these small boat crossings, which are facilitat…\n",
      "** RT @krazytoxic: Home Office...🙊 https://t.co/u1DO8Ep1i8\n",
      "** RT @JamesOKeefeIII: Years ago my friend @daviddaleiden home was raided by officials under the office of then California AG @SenKamalaHarris…\n",
      "** 164,000 deaths from COVID-19, election interference from abroad and rigging at home, millions without jobs, but Nik… https://t.co/05y8W6gCY0\n",
      "** RT @JamesOKeefeIII: Years ago my friend @daviddaleiden home was raided by officials under the office of then California AG @SenKamalaHarris…\n"
     ]
    }
   ],
   "source": [
    "for tweet in tweets:\n",
    "    print('**', tweet.text)\n",
    "    analysis = tb(tweet.text)\n",
    "    polarity = analysis.sentiment.polarity\n",
    "    tweets_score.append(polarity)"
   ]
  },
  {
   "cell_type": "code",
   "execution_count": 15,
   "metadata": {},
   "outputs": [
    {
     "name": "stdout",
     "output_type": "stream",
     "text": [
      "Vetor de polaridade: [0.0, -0.25, 0.1, 0.0, 0.0, -0.07777777777777779, 0.9099999999999999, 0.0, 0.0, 0.0, 0.0, 0.0, 0.0, 0.0, 0.0, 0.0, 0.0, 0.5580357142857142, 0.0, 0.0, 0.0, 0.0, 0.0, 0.0, 0.0, 0.0, 0.0, 0.0, 0.0, 0.0, 0.0, -0.25, 0.0, 0.0, 0.0, 0.0, 0.0, 0.0, 0.0, 0.0, 0.17045454545454544, 0.0, 0.0, 0.0, -0.25, 0.0, -0.125, 0.0, 0.0, 0.0, 0.0, -0.25, 0.0, 0.0, 0.4, 0.4, 0.0, 0.0, -0.125, -0.16666666666666666, 0.0, 0.0, 0.0, 0.0, 0.0, 0.0, 0.0, 0.0, 0.0, 0.1, 0.03333333333333333, 0.5, 0.0, -0.25, 0.0, 0.125, 0.0, 0.3, 0.0, 0.0, 0.0, 0.0, 0.0, 0.5, 0.0, 0.0, 0.0, 0.0, 3.700743415417188e-17, 0.0, 0.0, 0.0, 0.0, 0.0, 0.0, -0.25, 0.0, 0.0, 0.0, 0.0]\n"
     ]
    }
   ],
   "source": [
    "print('Vetor de polaridade:', tweets_score)"
   ]
  },
  {
   "cell_type": "code",
   "execution_count": 16,
   "metadata": {
    "scrolled": true
   },
   "outputs": [
    {
     "name": "stdout",
     "output_type": "stream",
     "text": [
      "Média de sentimento:0.02102379148629149\n"
     ]
    }
   ],
   "source": [
    "print('Média de sentimento:' + str(np.mean(tweets_score))) # a função mean() pertence ao pacote numpy"
   ]
  },
  {
   "cell_type": "markdown",
   "metadata": {},
   "source": [
    "#### Analise de polaridade para tweets que não foram postados em inglês"
   ]
  },
  {
   "cell_type": "code",
   "execution_count": 17,
   "metadata": {},
   "outputs": [
    {
     "name": "stdout",
     "output_type": "stream",
     "text": [
      "Texto traduzido The advantage of the home office is that you don't have to hold back the urge to cry during office hours.: \n",
      "Texto traduzido RT @castelabranca: Hey, but the STF ministers weren't in the Home Office?\n",
      "\n",
      "Look at Toffoli trying to get a CAT: \n",
      "Texto traduzido RT @alamoju: the advantage of the home office is that you don't have to hold back the urge to cry during office hours.: \n",
      "Texto traduzido Have a full home office: \n",
      "Texto traduzido @stems_ And I never want to leave the home office again, man, it's too much life: \n",
      "Texto traduzido I will probably stay at home office until the end of the year, just because I wanted to see my colleagues: \n",
      "Texto traduzido @digiescolhidx Friend I came back but I really wanted my home office back: \n",
      "Texto traduzido RT @alamoju: the advantage of the home office is that you don't have to hold back the urge to cry during office hours.: \n",
      "Texto traduzido look when I will do home office https://t.co/lMhsdiHyqT: \n",
      "Texto traduzido RT @trm4065: ◎Tonight <TwitCasting Live Stream>\n",
      "\n",
      "■2020/8/12(Wed) 20:00~\n",
      "\"Home free Live! #6\"\n",
      "https://t.co/vlrMNPjcA9\n",
      "[Guest] #Kouhei\n",
      "Matsunaka's home mini live + cheki shooting autograph session\n",
      "\n",
      "Today on 8/12...: \n",
      "Texto traduzido RT @alamoju: the advantage of the home office is that you don't have to hold back the urge to cry during office hours.: \n",
      "Texto traduzido I honestly don't know how you can stand to see the office that home office manager is UNSUPPORTABLE: \n",
      "Texto traduzido @DanielSFurlan It reminded me that Jehovah's witnesses are in the home office. I've never received so many calls.: \n"
     ]
    }
   ],
   "source": [
    "polarities = []\n",
    "\n",
    "for tweet in tweets: \n",
    "    analysis = tb(tweet.text) #tweet.full_text para modo extendido\n",
    "    \n",
    "    if (analysis.detect_language() != 'en'):\n",
    "        traducao = tb(str(analysis.translate(to='en')))\n",
    "        print('Texto traduzido %s: ' % traducao)\n",
    "        polarity = traducao.sentiment.polarity\n",
    "    else:\n",
    "        polarity = analysis.sentiment.polarity\n",
    "        \n",
    "    polarities.append(polarity)"
   ]
  },
  {
   "cell_type": "code",
   "execution_count": 18,
   "metadata": {},
   "outputs": [
    {
     "name": "stdout",
     "output_type": "stream",
     "text": [
      "Vetor de polaridade: [0.0, -0.25, 0.1, 0.0, 0.0, -0.07777777777777779, 0.9099999999999999, 0.0, 0.0, 0.0, 0.0, 0.0, 0.0, 0.0, 0.0, 0.0, 0.0, 0.5580357142857142, 0.0, 0.0, 0.0, 0.0, 0.0, 0.0, 0.0, 0.0, 0.0, 0.0, 0.0, 0.0, 0.35, -0.25, 0.2, 0.0, 0.0, 0.06666666666666667, 0.0, 0.0, 0.0, 0.0, 0.17045454545454544, 0.0, 0.0, 0.0, -0.25, 0.0, -0.125, 0.0, 0.0, 0.0, 0.0, -0.25, 0.0, 0.0, 0.21079545454545454, 0.4, 0.0, 0.0, -0.125, -0.16666666666666666, 0.6, 0.0, 0.0, 0.0, 0.0, 0.5, 0.0, 0.0, 0.0, 0.1, 0.03333333333333333, 0.5, 0.0, -0.25, 0.0, 0.125, 0.0, 0.3, 0.0, 0.0, 0.0, 0.0, 0.0, 0.5, 0.0, 0.0, 0.0, 0.0, 3.700743415417188e-17, 0.0, 0.0, 0.0, 0.0, 0.0, 0.0, -0.25, 0.0, 0.0, 0.0, 0.0]\n"
     ]
    }
   ],
   "source": [
    "print('Vetor de polaridade:', polarities)"
   ]
  },
  {
   "cell_type": "code",
   "execution_count": 19,
   "metadata": {},
   "outputs": [
    {
     "name": "stdout",
     "output_type": "stream",
     "text": [
      "Média de sentimento:0.03629841269841269\n"
     ]
    }
   ],
   "source": [
    "print('Média de sentimento:' + str(np.mean(polarities)))"
   ]
  },
  {
   "cell_type": "markdown",
   "metadata": {},
   "source": [
    "# Armazenar resultados"
   ]
  },
  {
   "cell_type": "code",
   "execution_count": 20,
   "metadata": {},
   "outputs": [],
   "source": [
    "import json"
   ]
  },
  {
   "cell_type": "code",
   "execution_count": 21,
   "metadata": {},
   "outputs": [],
   "source": [
    "status = tweets[0]\n",
    "\n",
    "json_str = json.dumps(status._json)"
   ]
  },
  {
   "cell_type": "code",
   "execution_count": 22,
   "metadata": {},
   "outputs": [],
   "source": [
    "#diserialize string para obj python\n",
    "parsed = json.loads(json_str)"
   ]
  },
  {
   "cell_type": "code",
   "execution_count": 23,
   "metadata": {},
   "outputs": [],
   "source": [
    "datasetPath = '/home/claric/Documents/'\n",
    "\n",
    "with open(datasetPath +'\\\\tweets_keywords.json', 'a', encoding='utf8') as filename: #aberto em modo append\n",
    "    status = tweet\n",
    "    json_str = json.dumps(status._json)\n",
    "    parsed = json.loads(json_str)\n",
    "    json.dump(parsed, filename, ensure_ascii=False, sort_keys=True, indent=4, separators=(',',':'))"
   ]
  },
  {
   "cell_type": "code",
   "execution_count": 24,
   "metadata": {},
   "outputs": [],
   "source": [
    "import pymongo"
   ]
  },
  {
   "cell_type": "code",
   "execution_count": 25,
   "metadata": {},
   "outputs": [],
   "source": [
    "#Conexão ao banco de dados\n",
    "con = pymongo.MongoClient('localhost', 27017)\n",
    "\n",
    "db = con.twitter_home"
   ]
  },
  {
   "cell_type": "code",
   "execution_count": 26,
   "metadata": {},
   "outputs": [],
   "source": [
    "collection = db.tweets_keywords"
   ]
  },
  {
   "cell_type": "code",
   "execution_count": 27,
   "metadata": {},
   "outputs": [
    {
     "data": {
      "text/plain": [
       "100"
      ]
     },
     "execution_count": 27,
     "metadata": {},
     "output_type": "execute_result"
    }
   ],
   "source": [
    "db.tweets_keywords.count_documents({})"
   ]
  },
  {
   "cell_type": "code",
   "execution_count": 28,
   "metadata": {},
   "outputs": [
    {
     "name": "stdout",
     "output_type": "stream",
     "text": [
      "100\n"
     ]
    }
   ],
   "source": [
    "i = 0\n",
    "for tweet in tweets:\n",
    "    db.tweets_keywords.insert_one(tweet._json)\n",
    "    i += 1\n",
    "print(i)"
   ]
  },
  {
   "cell_type": "code",
   "execution_count": null,
   "metadata": {},
   "outputs": [],
   "source": []
  },
  {
   "cell_type": "code",
   "execution_count": null,
   "metadata": {},
   "outputs": [],
   "source": []
  }
 ],
 "metadata": {
  "kernelspec": {
   "display_name": "Python 3",
   "language": "python",
   "name": "python3"
  },
  "language_info": {
   "codemirror_mode": {
    "name": "ipython",
    "version": 3
   },
   "file_extension": ".py",
   "mimetype": "text/x-python",
   "name": "python",
   "nbconvert_exporter": "python",
   "pygments_lexer": "ipython3",
   "version": "3.6.9"
  }
 },
 "nbformat": 4,
 "nbformat_minor": 4
}
